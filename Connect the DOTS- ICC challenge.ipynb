{
 "cells": [
  {
   "cell_type": "markdown",
   "metadata": {},
   "source": [
    "# Install libraries"
   ]
  },
  {
   "cell_type": "markdown",
   "metadata": {},
   "source": [
    "Install the required libraries through pip."
   ]
  },
  {
   "cell_type": "code",
   "execution_count": null,
   "metadata": {},
   "outputs": [],
   "source": [
    "!pip install google-cloud-language spacy\n",
    "!pip install --upgrade networkx"
   ]
  },
  {
   "cell_type": "markdown",
   "metadata": {},
   "source": [
    "Download the [required model](https://spacy.io/usage/models)."
   ]
  },
  {
   "cell_type": "code",
   "execution_count": null,
   "metadata": {},
   "outputs": [],
   "source": [
    "!python -m spacy download en_core_web_sm"
   ]
  },
  {
   "cell_type": "markdown",
   "metadata": {},
   "source": [
    "# Import libraries"
   ]
  },
  {
   "cell_type": "markdown",
   "metadata": {},
   "source": [
    "Libraries for making use of [Google NLP](https://cloud.google.com/natural-language/). This API has very strong entity extraction. "
   ]
  },
  {
   "cell_type": "code",
   "execution_count": null,
   "metadata": {},
   "outputs": [],
   "source": [
    "from google.cloud import language\n",
    "from google.cloud.language import enums\n",
    "from google.cloud.language import types"
   ]
  },
  {
   "cell_type": "markdown",
   "metadata": {},
   "source": [
    "Library for regular expressions, used in basic data loading."
   ]
  },
  {
   "cell_type": "code",
   "execution_count": null,
   "metadata": {},
   "outputs": [],
   "source": [
    "import re"
   ]
  },
  {
   "cell_type": "markdown",
   "metadata": {},
   "source": [
    "We use [Spacy](https://spacy.io/) for linguistic analysis of the statements. Used to extract sentence structure. "
   ]
  },
  {
   "cell_type": "code",
   "execution_count": null,
   "metadata": {},
   "outputs": [],
   "source": [
    "import spacy"
   ]
  },
  {
   "cell_type": "markdown",
   "metadata": {},
   "source": [
    "We use [Pandas](https://pandas.pydata.org/) for dealing with tabular data."
   ]
  },
  {
   "cell_type": "code",
   "execution_count": null,
   "metadata": {},
   "outputs": [],
   "source": [
    "import pandas as pd"
   ]
  },
  {
   "cell_type": "markdown",
   "metadata": {},
   "source": [
    "Standard python libraries we use to deal with:\n",
    "  - processes that are IO heavy;\n",
    "  - combining iterators;\n",
    "  - exporting data."
   ]
  },
  {
   "cell_type": "code",
   "execution_count": null,
   "metadata": {},
   "outputs": [],
   "source": [
    "import concurrent.futures"
   ]
  },
  {
   "cell_type": "code",
   "execution_count": null,
   "metadata": {},
   "outputs": [],
   "source": [
    "import itertools"
   ]
  },
  {
   "cell_type": "code",
   "execution_count": null,
   "metadata": {},
   "outputs": [],
   "source": [
    "import json"
   ]
  },
  {
   "cell_type": "markdown",
   "metadata": {},
   "source": [
    "# Include the sole sample document"
   ]
  },
  {
   "cell_type": "markdown",
   "metadata": {},
   "source": [
    "Only _one_ sample document was given. We include it here for convenience's sake."
   ]
  },
  {
   "cell_type": "code",
   "execution_count": null,
   "metadata": {},
   "outputs": [],
   "source": [
    "document = \"\"\"WITNESS B\n",
    "\t\tDate of birth:  December 17, 1991\n",
    "\t\tDate statement taken: September 14, 2006\t\t\t\n",
    "\n",
    "A.\tCircumstances of the enlistment\n",
    "1.\tMy name is “Marcus BRODY.”  I am 15 years old.  \n",
    "2.\tIn late 2002, I can’t remember exactly when, there was a lot of fighting in Goma, where I was living with my cousins.  My parents and sisters were already killed by the Rebels.  They had attacked our village one night with guns and grenades.\n",
    "3.\tI went to a rally in Goma where several Government commanders spoke and said that the President and the DCP were defending Congo.  I remember one of the commanders who spoke was Chief KOBONO, because everyone cheered when he got up to speak.  There were many soldiers at the rally, about the same as the number of children in my school .  Each family had to contribute, a cow or a goat or a child.  I was around ten years old then.  My aunt said I should go, since my family was dead because of the Rebels.  I followed the DCP soldiers.\n",
    "B.\tTraining at Kalemie\n",
    "4.\tThe DCP soldiers took me to a training camp called Kalemie, which was a few miles outside of my village.  A number of us, men and children, were transported there in a green “stout” (open back truck).  The camp was very big, with many soldiers and lots of guns.  I think that some of the trainers were from another country because sometimes they spoke in a language I did not really understand.  The training was hard at first, but I was good at running and shooting, so the commanders knew I would make a good soldier.  They did not give us guns to keep at first, but we learnt how to clean and use them properly.  \n",
    "5.\tThere were lots of new recruits all the time, children as well as men.  There were girls as well.  Most of the children were around my age, but some were younger, as young as seven years old.  Many of the girls were wives of the commanders.  The commanders called them their wives, but the girls did not talk about it much.  A good wife spends the entire night with her man.  The commanders laughed and said that if we boys learned to be good fighters, we would have many wives too.  I did not really take them seriously as I was just a boy.  \n",
    "6.\tThe commanders also offered us marijuana to smoke.  They said it would help us to relax.  I did not smoke, but many of the other boys and girls smoked with the commanders.  When the boys smoked, they seemed to go calm.\n",
    "7.\tThe commander of the camp was BAGOR.  We all knew him by name.\n",
    "8.\tI remember he or maybe another commander spoke to the soldiers and recruits one time after the evening meal.  He said that we should kill all Rebels, that they were the enemy.  He said that the purpose of all our hard training was to prepare us for fighting the Rebels, who were taking our land and trying to kill us.  He said the enemy had already killed many of our family members, and we were entitled to revenge.  He kept saying that they were the “enemy.”  We should kill all of them, men, women and children, and destroy their villages.  It was our duty, what we were meant to do.\n",
    "9.\tThe President, Ule MATOBO GOBO, visited the camp one time.  He arrived in a green jeep with several other commanders.  We received special instructions in preparation for his visit.  Other members of the militia taught us what to do.  If the President came to the camp, you had to lift your gun, holding the base in your hand and putting the barrel on your shoulder, march in front of him with your legs good and straight.  I had practiced this salute many times before the President arrived, and my commander told me afterwards that my salute was one of the best in my group.\n",
    "10.\tThe President spoke to the regular soldiers, who were in uniform, as well as the children and new adult recruits.  We were all assembled in a big hut in the middle of the camp.  There were many of us who were brought in to hear the President speak, the whole camp.  There were many other children in the crowd, boys and girls, most of whom were my age.  \n",
    "11.\tThe President spent all morning talking to the soldiers and recruits.  He told us that we were here to become a trained army that would bring peace to Congo.  He said our enemies were all those who were opposed to peace.  He said that after the fighting was done we would be able to go back to school, get other training.  This fighting, he said, was for the good of Congo in the end.  The soldiers in the crowd cheered loudly at the end of the speech.  I too was moved by the President’s speech and wanted to fight to protect my people.\n",
    "12.\tThe President said that when we were done with our training, we would each receive a gun.  At that time, I had not yet received my own gun.  \n",
    "13.\tWe talked about the President’s visit afterwards with the soldiers and commanders.  I was excited to get my personal gun and uniform, to be like the soldiers.\n",
    "C.\tParticipation in Attacks\n",
    "14.\tFinally the fighting came.  In February 2003, we were told there was a big attack coming, on Bankana.  I knew it was February because it was the beginning of the rainy season, and it rained heavily every day for a long time.  I had my gun, and because the commanders knew I was a good soldier, I was sent to the front line of the fighting.  There were many other boys my age on the front line, and some girls too, though just a few.\n",
    "15.\tThe commanders reminded us that we were brave and that we must use our training to destroy the enemy.  He offered us marijuana to help us relax.  I did not take any, but several of the boys smoked and it seemed to help them relax.  Commander BAGOR, told us that the fighting was for the good of Congo in the end.\n",
    "16.\tThe attack lasted the whole day.  We were met with fierce resistance from the armed soldiers of the village.  I shot many rounds, and killed several people.  I saw the soldiers from my platoon take a mother and her daughter from a house.  The soldiers pulled the mother away from her daughter.  I saw the soldiers kill the child in front of her mother with a machete.  \n",
    "17.\tWe also captured some prisoners, both men and women.  During the attack, the commander told us to burn the houses and destroy the crops.  We set many fires to the buildings.  There was a lot of confusion.   \n",
    "18.\tThe day after the attack, the DCP troops under the command of BAGOR were inspected by Commander AL-ZARIAN and Commander IKE DUBAKU at the militia headquarters in Mongbwalu.  That was the first time I saw Commander AL-ZARIAN.  He was a very high-ranking commander, a very important man.  He said his name to us, but I had heard it before, since he was such an important commander.  IKE DUBAKU ordered our platoons to re-attack Bankana and told us to follow our commanders to the frontline.  \n",
    "19.\tSeveral days later, we attacked Bankana again with another platoon that was bigger than ours.  I do not know how many men and children were in the platoon, maybe as many pupils as there were in my school.  Again, my commander sent me to the frontline, along with several other boys my age.  The men threw hand grenades and launched missiles to start the attack.  I used my gun and shot and killed many enemies.  We came under attack from armed men in the village, but I managed to make it out without being injured.  Two of my friends, however, boys my age, both died in the attack, along with a few others from the platoon that accompanied us.  One of the girls in the other platoon was shot in the foot.\n",
    "\n",
    "D.        Role as bodyguard\n",
    "20.\tAfterward, I was posted to guard Commander TCHAZA’s house in a neighbourhood of Kinshasa.  I wore a “tâches-tâche” uniform and carried a gun, a fusil.  It was an honor to be told to guard the commander.  I patrolled his compound and searched all those who visited him.  Sometimes I would also accompany him to rallies in the Government villages and meetings with his commanders.  I would have shot anyone who tried to harm him.\n",
    "\n",
    "E.\tDemobilization\n",
    "21.\tAfter the President left, IKE called me on the phone and told me to go home. IKE’s phone number is 08984948494. I kept my gun but went back to my village to try to find my cousins.  Some had been killed while I was away.  I stayed there but I was not able to find any work and I did not want to go to school.  \n",
    "22.\tAfter wandering a little from village to village, where I did some field-work in exchange for food and lodging, I ended up at the center of Gbadolite for child soldiers in Kinshasa.\n",
    "23.\tAt the center, I was interviewed several times by a white woman named SANARA who asked me about my experience in the militia.  She would take notes of our conversations.  There were many other children in the center, enough to fill my entire school.  In the room where I slept, there were about 7 girls/boys and we were all between 14 and 17 years of age.  I made friends with many of them and we used to talk about our life as soldiers.\n",
    "24.\tI had been staying at the center until I was transferred to a safe-house to await the trial.\n",
    "\"\"\""
   ]
  },
  {
   "cell_type": "markdown",
   "metadata": {},
   "source": [
    "# Extract _events_ and _statements_"
   ]
  },
  {
   "cell_type": "markdown",
   "metadata": {},
   "source": [
    "The document is structured into _events_ and _statements_. An analist transforms a recording of an interview between the witness and an investigator into a _witness report_. This report is grouped into events, and each event is supported by numbered statements. We assume all witness statements are of this form. "
   ]
  },
  {
   "cell_type": "code",
   "execution_count": null,
   "metadata": {},
   "outputs": [],
   "source": [
    "def extract_events(document:str)->(pd.DataFrame, pd.DataFrame):\n",
    "  # Extract events from document\n",
    "  extracted_events = [\n",
    "    (event.span()[0], event.span()[1], event.group('index'), event.group('event'))\n",
    "    for event in re.finditer(r'\\n(?P<index>[A-Z]+)\\.\\s+(?P<event>.*)', document)\n",
    "  ]\n",
    "\n",
    "  # Convert into Pandas dataframe\n",
    "  df_events = pd.DataFrame([\n",
    "      (event[2], event[3], document[event[1]:next_event[0]].strip())\n",
    "      for event, next_event in zip(extracted_events, extracted_events[1:])\n",
    "    ], columns= [ 'letter','header', 'content']\n",
    "  )\n",
    "  \n",
    "  # Extract statements into Pandas dataframe\n",
    "  df_statements \\\n",
    "    = df_events\\\n",
    "      .content.str.extractall(r'(?:^|\\n)(?P<nr_statement>\\d+)\\.\\s*(?P<statement>.*)')\\\n",
    "      .assign(nr_statement = lambda df: df.nr_statement.astype(int))\\\n",
    "      .reset_index()\\\n",
    "      .merge(df_events[['letter','header']], left_on='level_0', right_index=True)\\\n",
    "      .drop(['match','level_0'], axis=1)\\\n",
    "      .set_index('nr_statement')\n",
    "\n",
    "  \n",
    "  return df_statements[['letter', 'header', 'statement']]"
   ]
  },
  {
   "cell_type": "markdown",
   "metadata": {},
   "source": [
    "Actually extract _events_ and _statements_."
   ]
  },
  {
   "cell_type": "code",
   "execution_count": null,
   "metadata": {},
   "outputs": [],
   "source": [
    "df_statements =  extract_events(document)"
   ]
  },
  {
   "cell_type": "markdown",
   "metadata": {},
   "source": [
    "Output the data to JSON, to be used in the visualisation."
   ]
  },
  {
   "cell_type": "code",
   "execution_count": null,
   "metadata": {},
   "outputs": [],
   "source": [
    "print(json.dumps(df_statements.to_dict(orient='index')))"
   ]
  },
  {
   "cell_type": "markdown",
   "metadata": {},
   "source": [
    "# Analyze the entities per statement"
   ]
  },
  {
   "cell_type": "markdown",
   "metadata": {},
   "source": [
    "Use Google NLP to analyze the entities per statement. When more data would be available, a custom `spacy` model would also be possible. "
   ]
  },
  {
   "cell_type": "code",
   "execution_count": null,
   "metadata": {},
   "outputs": [],
   "source": [
    "def analyze_document(client:object, doc:str):\n",
    "  # Convert into Google NLP Doc\n",
    "  document = types.Document(\n",
    "    content= doc,\n",
    "    type= enums.Document.Type.PLAIN_TEXT\n",
    "  )\n",
    "  \n",
    "  # Analyze entities\n",
    "  entities = client.analyze_entities(document).entities\n",
    "\n",
    "  return [{\n",
    "    'name' : entity.name, \n",
    "    'salience': entity.salience, \n",
    "    'mentioned_as' : mention.text.content, \n",
    "    'mentioned_type': mention.type\n",
    "  }\\\n",
    "    for entity in entities\n",
    "    for mention in entity.mentions\n",
    "  ]"
   ]
  },
  {
   "cell_type": "markdown",
   "metadata": {},
   "source": [
    "Method to query Google NLP in parallel to reduce wait-time."
   ]
  },
  {
   "cell_type": "code",
   "execution_count": null,
   "metadata": {},
   "outputs": [],
   "source": [
    "def analyze_entities(docs:pd.Series)->pd.DataFrame():\n",
    "  # Create NLP client\n",
    "  client = language.LanguageServiceClient()\n",
    "  \n",
    "  def entity_iterator():\n",
    "    # Work with a threadpool\n",
    "    with concurrent.futures.ThreadPoolExecutor(max_workers=8) as executor:\n",
    "      # Query for entities\n",
    "      task_dict = {\n",
    "        executor.submit(analyze_document, client, statement) : index\\\n",
    "          for index, statement in docs.items()\n",
    "      }\n",
    "\n",
    "      for future in concurrent.futures.as_completed(task_dict):\n",
    "          nr_statement = task_dict[future]\n",
    "\n",
    "          try:\n",
    "              data = future.result()\n",
    "          except Exception as exc:\n",
    "              print('Statement {:} generated an exception: {:}.'.format(nr_statement, exc))\n",
    "          else:\n",
    "              for entity in data:\n",
    "                entity['nr_statement']= nr_statement\n",
    "\n",
    "              yield data\n",
    "              \n",
    "  return pd.DataFrame(list(itertools.chain(*entity_iterator())))"
   ]
  },
  {
   "cell_type": "markdown",
   "metadata": {},
   "source": [
    "Get overview of all entities"
   ]
  },
  {
   "cell_type": "code",
   "execution_count": null,
   "metadata": {},
   "outputs": [],
   "source": [
    "df_entities = analyze_entities(df_statements.statement)"
   ]
  },
  {
   "cell_type": "markdown",
   "metadata": {},
   "source": [
    "## Analyze the occurence of entities per statement"
   ]
  },
  {
   "cell_type": "markdown",
   "metadata": {},
   "source": [
    "The main entities are those that are references as `PROPER`; see [the documentation](https://cloud.google.com/natural-language/docs/reference/rest/v1/Entity). "
   ]
  },
  {
   "cell_type": "code",
   "execution_count": null,
   "metadata": {},
   "outputs": [],
   "source": [
    "main_entities = df_entities.query('mentioned_type == 1').name.unique()"
   ]
  },
  {
   "cell_type": "code",
   "execution_count": null,
   "metadata": {},
   "outputs": [],
   "source": [
    "df_entities_per_statement \\\n",
    "  = df_entities[lambda df: df.name.isin(main_entities)]\\\n",
    "  .groupby(by=['name','nr_statement'])\\\n",
    "  .size()\\\n",
    "  .unstack('nr_statement')\\\n",
    "  .fillna(0)"
   ]
  },
  {
   "cell_type": "markdown",
   "metadata": {},
   "source": [
    "## Analyze the mentions of entities in text"
   ]
  },
  {
   "cell_type": "markdown",
   "metadata": {},
   "source": [
    "Load the necessary model."
   ]
  },
  {
   "cell_type": "code",
   "execution_count": null,
   "metadata": {},
   "outputs": [],
   "source": [
    "spacy_en = spacy.load('en_core_web_sm')"
   ]
  },
  {
   "cell_type": "markdown",
   "metadata": {},
   "source": [
    "Analyze each statement in the dataframe"
   ]
  },
  {
   "cell_type": "code",
   "execution_count": null,
   "metadata": {},
   "outputs": [],
   "source": [
    "def extract_relations_in_statements(df:pd.DataFrame):\n",
    "  def relation_iterator():\n",
    "    for statement_nr, statement in df_statements.statement.iteritems():\n",
    "      # Parse the statement\n",
    "      parsed_statement = spacy_en(statement)\n",
    "\n",
    "      for chunk in parsed_statement.noun_chunks:\n",
    "        # Only consider verb relationships\n",
    "        if chunk.root.head.pos_ == 'VERB':\n",
    "          yield { \n",
    "            'from_raw' : chunk.text,\n",
    "            'from' : chunk.lemma_,\n",
    "            'verb' : chunk.root.head.lemma_,\n",
    "            'verb_raw': chunk.root.head.text,\n",
    "            'statement': statement_nr\n",
    "          }\n",
    "  \n",
    "  return pd.DataFrame(list(relation_iterator()))"
   ]
  },
  {
   "cell_type": "code",
   "execution_count": null,
   "metadata": {},
   "outputs": [],
   "source": [
    "df_statement_relations = extract_relations_in_statements(df_statements)"
   ]
  },
  {
   "cell_type": "markdown",
   "metadata": {},
   "source": [
    "## Analyze relations between events and entities based on statements"
   ]
  },
  {
   "cell_type": "markdown",
   "metadata": {},
   "source": [
    "Main entities can be found in any noun phrase by matching to a regex. Indirect references are missed in this way. "
   ]
  },
  {
   "cell_type": "code",
   "execution_count": null,
   "metadata": {},
   "outputs": [],
   "source": [
    "main_entity_regex = re.compile('(?P<entity>{:})'.format('|'.join(main_entities)), re.IGNORECASE)"
   ]
  },
  {
   "cell_type": "markdown",
   "metadata": {},
   "source": [
    "Store a dict with all relationships between verbs and entities. "
   ]
  },
  {
   "cell_type": "code",
   "execution_count": null,
   "metadata": {},
   "outputs": [],
   "source": [
    "entity_statement_relations = df_statement_relations\\\n",
    "  .assign(entity = lambda df: df.from_raw.str.extract(main_entity_regex, expand= False))\\\n",
    "  [lambda df: ~df.entity.isnull()]\\\n",
    "  .to_dict(orient='index')"
   ]
  },
  {
   "cell_type": "markdown",
   "metadata": {},
   "source": [
    "Store a dict with all relationships between verbs and general noun phrases."
   ]
  },
  {
   "cell_type": "code",
   "execution_count": null,
   "metadata": {},
   "outputs": [],
   "source": [
    "all_relations = df_statement_relations.to_dict(orient='index')"
   ]
  },
  {
   "cell_type": "markdown",
   "metadata": {},
   "source": [
    "Output the data to command line."
   ]
  },
  {
   "cell_type": "code",
   "execution_count": null,
   "metadata": {},
   "outputs": [],
   "source": [
    "print(json.dumps(list(entity_statement_relations.values()), indent=2, sort_keys=True))"
   ]
  },
  {
   "cell_type": "code",
   "execution_count": null,
   "metadata": {},
   "outputs": [],
   "source": [
    "print(json.dumps(list(all_relations.values()), indent=2, sort_keys=True))"
   ]
  },
  {
   "cell_type": "markdown",
   "metadata": {},
   "source": [
    "## Analyze verbs per statement"
   ]
  },
  {
   "cell_type": "markdown",
   "metadata": {},
   "source": [
    "Create overview of key verbs per statement."
   ]
  },
  {
   "cell_type": "code",
   "execution_count": null,
   "metadata": {},
   "outputs": [],
   "source": [
    "df_verbs_per_statement = df_statement_relations.groupby(by=['statement','verb']).size().rename('occurrence').reset_index()"
   ]
  },
  {
   "cell_type": "code",
   "execution_count": null,
   "metadata": {},
   "outputs": [],
   "source": [
    "print(json.dumps(list(df_verbs_per_statement.to_dict(orient='index').values()), indent=2, sort_keys=True))"
   ]
  },
  {
   "cell_type": "code",
   "execution_count": null,
   "metadata": {},
   "outputs": [],
   "source": []
  }
 ],
 "metadata": {
  "kernelspec": {
   "display_name": "Python 3",
   "language": "python",
   "name": "python3"
  },
  "language_info": {
   "codemirror_mode": {
    "name": "ipython",
    "version": 3
   },
   "file_extension": ".py",
   "mimetype": "text/x-python",
   "name": "python",
   "nbconvert_exporter": "python",
   "pygments_lexer": "ipython3",
   "version": "3.5.5"
  }
 },
 "nbformat": 4,
 "nbformat_minor": 2
}
